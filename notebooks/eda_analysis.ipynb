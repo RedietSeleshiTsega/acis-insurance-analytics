{
 "cells": [
  {
   "cell_type": "code",
   "execution_count": 30,
   "id": "d286e0df",
   "metadata": {},
   "outputs": [],
   "source": [
    "import pandas as pd\n",
    "import seaborn as sns\n",
    "import matplotlib.pyplot as plt\n",
    "import numpy as np\n",
    "import os"
   ]
  },
  {
   "cell_type": "code",
   "execution_count": 31,
   "id": "11ed2432",
   "metadata": {},
   "outputs": [],
   "source": [
    "sns.set_style('whitegrid')\n",
    "plt.rcParams['figure.figsize'] = (12, 6)"
   ]
  },
  {
   "cell_type": "code",
   "execution_count": 32,
   "id": "69f46313",
   "metadata": {},
   "outputs": [],
   "source": [
    "output_dir = os.path.join('..', 'eda_plots')\n",
    "os.makedirs(output_dir, exist_ok=True)"
   ]
  },
  {
   "cell_type": "code",
   "execution_count": 33,
   "id": "e7a4b063",
   "metadata": {},
   "outputs": [
    {
     "name": "stderr",
     "output_type": "stream",
     "text": [
      "C:\\Users\\bless\\AppData\\Local\\Temp\\ipykernel_22936\\1540778197.py:1: DtypeWarning: Columns (32,37) have mixed types. Specify dtype option on import or set low_memory=False.\n",
      "  df = pd.read_csv(r'C:\\Users\\bless\\OneDrive\\Desktop\\week-3-final\\acis-insurance-analytics\\data\\MachineLearningRating_v3.txt', sep='|')\n"
     ]
    }
   ],
   "source": [
    "df = pd.read_csv(r'C:\\Users\\bless\\OneDrive\\Desktop\\week-3-final\\acis-insurance-analytics\\data\\MachineLearningRating_v3.txt', sep='|')"
   ]
  },
  {
   "cell_type": "code",
   "execution_count": 34,
   "id": "0736f140",
   "metadata": {},
   "outputs": [],
   "source": [
    "if 'TransactionMonth' in df.columns:\n",
    "    df['TransactionMonth'] = pd.to_datetime(df['TransactionMonth'], errors='coerce', format='%Y-%m-%d %H:%M:%S')"
   ]
  },
  {
   "cell_type": "code",
   "execution_count": 35,
   "id": "7edf5ebe",
   "metadata": {},
   "outputs": [
    {
     "name": "stdout",
     "output_type": "stream",
     "text": [
      "Descriptive Statistics:\n",
      "       TotalPremium   TotalClaims    SumInsured  CustomValueEstimate\n",
      "count  1.000098e+06  1.000098e+06  1.000098e+06         2.204560e+05\n",
      "mean   6.190550e+01  6.486119e+01  6.041727e+05         2.255311e+05\n",
      "std    2.302845e+02  2.384075e+03  1.508332e+06         5.645157e+05\n",
      "min   -7.825768e+02 -1.200241e+04  1.000000e-02         2.000000e+04\n",
      "25%    0.000000e+00  0.000000e+00  5.000000e+03         1.350000e+05\n",
      "50%    2.178333e+00  0.000000e+00  7.500000e+03         2.200000e+05\n",
      "75%    2.192982e+01  0.000000e+00  2.500000e+05         2.800000e+05\n",
      "max    6.528260e+04  3.930921e+05  1.263620e+07         2.655000e+07\n"
     ]
    }
   ],
   "source": [
    "print(\"Descriptive Statistics:\")\n",
    "print(df[['TotalPremium', 'TotalClaims', 'SumInsured', 'CustomValueEstimate']].describe())"
   ]
  },
  {
   "cell_type": "code",
   "execution_count": 36,
   "id": "8a2f2fc7",
   "metadata": {},
   "outputs": [
    {
     "name": "stdout",
     "output_type": "stream",
     "text": [
      "\n",
      "Data Types:\n",
      "UnderwrittenCoverID                  int64\n",
      "PolicyID                             int64\n",
      "TransactionMonth            datetime64[ns]\n",
      "IsVATRegistered                       bool\n",
      "Citizenship                         object\n",
      "LegalType                           object\n",
      "Title                               object\n",
      "Language                            object\n",
      "Bank                                object\n",
      "AccountType                         object\n",
      "MaritalStatus                       object\n",
      "Gender                              object\n",
      "Country                             object\n",
      "Province                            object\n",
      "PostalCode                           int64\n",
      "MainCrestaZone                      object\n",
      "SubCrestaZone                       object\n",
      "ItemType                            object\n",
      "mmcode                             float64\n",
      "VehicleType                         object\n",
      "RegistrationYear                     int64\n",
      "make                                object\n",
      "Model                               object\n",
      "Cylinders                          float64\n",
      "cubiccapacity                      float64\n",
      "kilowatts                          float64\n",
      "bodytype                            object\n",
      "NumberOfDoors                      float64\n",
      "VehicleIntroDate                    object\n",
      "CustomValueEstimate                float64\n",
      "AlarmImmobiliser                    object\n",
      "TrackingDevice                      object\n",
      "CapitalOutstanding                  object\n",
      "NewVehicle                          object\n",
      "WrittenOff                          object\n",
      "Rebuilt                             object\n",
      "Converted                           object\n",
      "CrossBorder                         object\n",
      "NumberOfVehiclesInFleet            float64\n",
      "SumInsured                         float64\n",
      "TermFrequency                       object\n",
      "CalculatedPremiumPerTerm           float64\n",
      "ExcessSelected                      object\n",
      "CoverCategory                       object\n",
      "CoverType                           object\n",
      "CoverGroup                          object\n",
      "Section                             object\n",
      "Product                             object\n",
      "StatutoryClass                      object\n",
      "StatutoryRiskType                   object\n",
      "TotalPremium                       float64\n",
      "TotalClaims                        float64\n",
      "dtype: object\n"
     ]
    }
   ],
   "source": [
    "print(\"\\nData Types:\")\n",
    "print(df.dtypes)"
   ]
  },
  {
   "cell_type": "code",
   "execution_count": 37,
   "id": "1d63b101",
   "metadata": {},
   "outputs": [
    {
     "name": "stdout",
     "output_type": "stream",
     "text": [
      "\n",
      "Missing Values:\n",
      "UnderwrittenCoverID               0\n",
      "PolicyID                          0\n",
      "TransactionMonth                  0\n",
      "IsVATRegistered                   0\n",
      "Citizenship                       0\n",
      "LegalType                         0\n",
      "Title                             0\n",
      "Language                          0\n",
      "Bank                         145961\n",
      "AccountType                   40232\n",
      "MaritalStatus                  8259\n",
      "Gender                         9536\n",
      "Country                           0\n",
      "Province                          0\n",
      "PostalCode                        0\n",
      "MainCrestaZone                    0\n",
      "SubCrestaZone                     0\n",
      "ItemType                          0\n",
      "mmcode                          552\n",
      "VehicleType                     552\n",
      "RegistrationYear                  0\n",
      "make                            552\n",
      "Model                           552\n",
      "Cylinders                       552\n",
      "cubiccapacity                   552\n",
      "kilowatts                       552\n",
      "bodytype                        552\n",
      "NumberOfDoors                   552\n",
      "VehicleIntroDate                552\n",
      "CustomValueEstimate          779642\n",
      "AlarmImmobiliser                  0\n",
      "TrackingDevice                    0\n",
      "CapitalOutstanding                2\n",
      "NewVehicle                   153295\n",
      "WrittenOff                   641901\n",
      "Rebuilt                      641901\n",
      "Converted                    641901\n",
      "CrossBorder                  999400\n",
      "NumberOfVehiclesInFleet     1000098\n",
      "SumInsured                        0\n",
      "TermFrequency                     0\n",
      "CalculatedPremiumPerTerm          0\n",
      "ExcessSelected                    0\n",
      "CoverCategory                     0\n",
      "CoverType                         0\n",
      "CoverGroup                        0\n",
      "Section                           0\n",
      "Product                           0\n",
      "StatutoryClass                    0\n",
      "StatutoryRiskType                 0\n",
      "TotalPremium                      0\n",
      "TotalClaims                       0\n",
      "dtype: int64\n"
     ]
    }
   ],
   "source": [
    "print(\"\\nMissing Values:\")\n",
    "print(df.isnull().sum())"
   ]
  },
  {
   "cell_type": "code",
   "execution_count": 38,
   "id": "3a465d4a",
   "metadata": {},
   "outputs": [
    {
     "name": "stderr",
     "output_type": "stream",
     "text": [
      "C:\\Users\\bless\\AppData\\Local\\Temp\\ipykernel_22936\\1714774824.py:1: FutureWarning: A value is trying to be set on a copy of a DataFrame or Series through chained assignment using an inplace method.\n",
      "The behavior will change in pandas 3.0. This inplace method will never work because the intermediate object on which we are setting values always behaves as a copy.\n",
      "\n",
      "For example, when doing 'df[col].method(value, inplace=True)', try using 'df.method({col: value}, inplace=True)' or df[col] = df[col].method(value) instead, to perform the operation inplace on the original object.\n",
      "\n",
      "\n",
      "  df['TotalPremium'].fillna(df['TotalPremium'].median(), inplace=True)\n",
      "C:\\Users\\bless\\AppData\\Local\\Temp\\ipykernel_22936\\1714774824.py:2: FutureWarning: A value is trying to be set on a copy of a DataFrame or Series through chained assignment using an inplace method.\n",
      "The behavior will change in pandas 3.0. This inplace method will never work because the intermediate object on which we are setting values always behaves as a copy.\n",
      "\n",
      "For example, when doing 'df[col].method(value, inplace=True)', try using 'df.method({col: value}, inplace=True)' or df[col] = df[col].method(value) instead, to perform the operation inplace on the original object.\n",
      "\n",
      "\n",
      "  df['TotalClaims'].fillna(0, inplace=True)\n",
      "C:\\Users\\bless\\AppData\\Local\\Temp\\ipykernel_22936\\1714774824.py:4: FutureWarning: A value is trying to be set on a copy of a DataFrame or Series through chained assignment using an inplace method.\n",
      "The behavior will change in pandas 3.0. This inplace method will never work because the intermediate object on which we are setting values always behaves as a copy.\n",
      "\n",
      "For example, when doing 'df[col].method(value, inplace=True)', try using 'df.method({col: value}, inplace=True)' or df[col] = df[col].method(value) instead, to perform the operation inplace on the original object.\n",
      "\n",
      "\n",
      "  df['Gender'].fillna(df['Gender'].mode()[0], inplace=True)\n",
      "C:\\Users\\bless\\AppData\\Local\\Temp\\ipykernel_22936\\1714774824.py:6: FutureWarning: A value is trying to be set on a copy of a DataFrame or Series through chained assignment using an inplace method.\n",
      "The behavior will change in pandas 3.0. This inplace method will never work because the intermediate object on which we are setting values always behaves as a copy.\n",
      "\n",
      "For example, when doing 'df[col].method(value, inplace=True)', try using 'df.method({col: value}, inplace=True)' or df[col] = df[col].method(value) instead, to perform the operation inplace on the original object.\n",
      "\n",
      "\n",
      "  df['Province'].fillna(df['Province'].mode()[0], inplace=True)\n"
     ]
    }
   ],
   "source": [
    "df['TotalPremium'].fillna(df['TotalPremium'].median(), inplace=True)\n",
    "df['TotalClaims'].fillna(0, inplace=True) \n",
    "if 'Gender' in df.columns:\n",
    "    df['Gender'].fillna(df['Gender'].mode()[0], inplace=True)\n",
    "if 'Province' in df.columns:\n",
    "    df['Province'].fillna(df['Province'].mode()[0], inplace=True)"
   ]
  },
  {
   "cell_type": "code",
   "execution_count": 39,
   "id": "8f9cdcd2",
   "metadata": {},
   "outputs": [],
   "source": [
    "df['LossRatio'] = df['TotalClaims'] / df['TotalPremium'].replace(0, np.nan)"
   ]
  },
  {
   "cell_type": "code",
   "execution_count": 40,
   "id": "f79fc861",
   "metadata": {},
   "outputs": [],
   "source": [
    "sns.histplot(df['TotalClaims'], bins=50, kde=True)\n",
    "plt.title('Distribution of Total Claims')\n",
    "plt.xlabel('Total Claims (Rand)')\n",
    "plt.savefig(os.path.join(output_dir, 'total_claims_histogram.png'))\n",
    "plt.close()"
   ]
  },
  {
   "cell_type": "code",
   "execution_count": 41,
   "id": "5025e551",
   "metadata": {},
   "outputs": [],
   "source": [
    "if 'Province' in df.columns:\n",
    "    sns.countplot(x='Province', data=df, order=df['Province'].value_counts().index)\n",
    "    plt.title('Policy Count by Province')\n",
    "    plt.xticks(rotation=45)\n",
    "    plt.savefig(os.path.join(output_dir,'province_bar.png'))\n",
    "    plt.close()\n"
   ]
  },
  {
   "cell_type": "code",
   "execution_count": 42,
   "id": "99ab40fd",
   "metadata": {},
   "outputs": [],
   "source": [
    "sns.boxplot(x='TotalClaims', data=df)\n",
    "plt.title('Box Plot of Total Claims')\n",
    "plt.savefig(os.path.join(output_dir,'total_claims_boxplot.png'))\n",
    "plt.close()"
   ]
  },
  {
   "cell_type": "code",
   "execution_count": 43,
   "id": "ef3b26be",
   "metadata": {},
   "outputs": [],
   "source": [
    "if 'VehicleType' in df.columns:\n",
    "    sns.scatterplot(x='TotalPremium', y='TotalClaims', hue='VehicleType', size='LossRatio', data=df)\n",
    "    plt.title('Total Premium vs. Total Claims by Vehicle Type')\n",
    "    plt.savefig(os.path.join(output_dir,'premium_vs_claims_scatter.png'))\n",
    "    plt.close()"
   ]
  },
  {
   "cell_type": "code",
   "execution_count": 44,
   "id": "e62cc5e3",
   "metadata": {},
   "outputs": [],
   "source": [
    "numerical_cols = ['TotalPremium', 'TotalClaims', 'SumInsured', 'CustomValueEstimate']\n",
    "corr_matrix = df[numerical_cols].corr()\n",
    "sns.heatmap(corr_matrix, annot=True, cmap='coolwarm')\n",
    "plt.title('Correlation Matrix of Numerical Features')\n",
    "plt.savefig(os.path.join(output_dir,'correlation_matrix.png'))\n",
    "plt.close()"
   ]
  },
  {
   "cell_type": "code",
   "execution_count": 45,
   "id": "cd769a55",
   "metadata": {},
   "outputs": [
    {
     "name": "stderr",
     "output_type": "stream",
     "text": [
      "C:\\Users\\bless\\AppData\\Local\\Temp\\ipykernel_22936\\3651301334.py:2: FutureWarning: \n",
      "\n",
      "The `ci` parameter is deprecated. Use `errorbar=None` for the same effect.\n",
      "\n",
      "  sns.barplot(x='Province', y='LossRatio', data=df, ci=None, palette='viridis')\n",
      "C:\\Users\\bless\\AppData\\Local\\Temp\\ipykernel_22936\\3651301334.py:2: FutureWarning: \n",
      "\n",
      "Passing `palette` without assigning `hue` is deprecated and will be removed in v0.14.0. Assign the `x` variable to `hue` and set `legend=False` for the same effect.\n",
      "\n",
      "  sns.barplot(x='Province', y='LossRatio', data=df, ci=None, palette='viridis')\n"
     ]
    }
   ],
   "source": [
    "if 'Province' in df.columns:\n",
    "    sns.barplot(x='Province', y='LossRatio', data=df, ci=None, palette='viridis')\n",
    "    plt.title('Average Loss Ratio by Province')\n",
    "    plt.xticks(rotation=45)\n",
    "    plt.savefig(os.path.join(output_dir,'loss_ratio_province.png'))\n",
    "    plt.close()"
   ]
  },
  {
   "cell_type": "code",
   "execution_count": 46,
   "id": "34608831",
   "metadata": {},
   "outputs": [],
   "source": [
    "sns.histplot(df['TotalClaims'], bins=50, kde=True, color='teal')\n",
    "plt.axvline(df['TotalClaims'].quantile(0.95), color='red', linestyle='--', label='95th Percentile')\n",
    "plt.title('Total Claims Distribution with Outlier Threshold')\n",
    "plt.xlabel('Total Claims (Rand)')\n",
    "plt.legend()\n",
    "plt.savefig(os.path.join(output_dir,'total_claims_with_outliers.png'))\n",
    "plt.close()"
   ]
  },
  {
   "cell_type": "code",
   "execution_count": 47,
   "id": "5e4394b8",
   "metadata": {},
   "outputs": [],
   "source": [
    "if 'Gender' in df.columns:\n",
    "    sns.scatterplot(x='TotalPremium', y='TotalClaims', hue='Gender', style='Gender', data=df, s=100)\n",
    "    plt.title('Total Premium vs. Total Claims by Gender')\n",
    "    plt.xlabel('Total Premium (Rand)')\n",
    "    plt.ylabel('Total Claims (Rand)')\n",
    "    plt.savefig(os.path.join(output_dir,'premium_vs_claims_gender.png'))\n",
    "    plt.close()"
   ]
  },
  {
   "cell_type": "code",
   "execution_count": 48,
   "id": "04ae2026",
   "metadata": {},
   "outputs": [
    {
     "name": "stdout",
     "output_type": "stream",
     "text": [
      "✅ EDA completed. Visualizations saved as PNG files.\n"
     ]
    }
   ],
   "source": [
    "if 'Province' in df.columns:\n",
    "    premium_by_province = df.groupby('Province')['TotalPremium'].mean().reset_index()\n",
    "    sns.barplot(x='Province', y='TotalPremium', data=premium_by_province)\n",
    "    plt.title('Average Total Premium by Province')\n",
    "    plt.xticks(rotation=45)\n",
    "    plt.savefig(os.path.join(output_dir,'premium_by_province.png'))\n",
    "    plt.close()\n",
    "\n",
    "print(\"✅ EDA completed. Visualizations saved as PNG files.\")"
   ]
  }
 ],
 "metadata": {
  "kernelspec": {
   "display_name": "venv",
   "language": "python",
   "name": "python3"
  },
  "language_info": {
   "codemirror_mode": {
    "name": "ipython",
    "version": 3
   },
   "file_extension": ".py",
   "mimetype": "text/x-python",
   "name": "python",
   "nbconvert_exporter": "python",
   "pygments_lexer": "ipython3",
   "version": "3.13.4"
  }
 },
 "nbformat": 4,
 "nbformat_minor": 5
}
