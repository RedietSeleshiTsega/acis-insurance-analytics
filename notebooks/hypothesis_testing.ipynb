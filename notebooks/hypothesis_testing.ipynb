{
 "cells": [
  {
   "cell_type": "code",
   "execution_count": 2,
   "id": "ab7f4042",
   "metadata": {},
   "outputs": [],
   "source": [
    "import pandas as pd\n",
    "import scipy.stats as stats\n",
    "import numpy as np\n",
    "from statsmodels.stats.multicomp import pairwise_tukeyhsd"
   ]
  },
  {
   "cell_type": "code",
   "execution_count": 3,
   "id": "4cf90719",
   "metadata": {},
   "outputs": [
    {
     "name": "stderr",
     "output_type": "stream",
     "text": [
      "C:\\Users\\bless\\AppData\\Local\\Temp\\ipykernel_15944\\1540778197.py:1: DtypeWarning: Columns (32,37) have mixed types. Specify dtype option on import or set low_memory=False.\n",
      "  df = pd.read_csv(r'C:\\Users\\bless\\OneDrive\\Desktop\\week-3-final\\acis-insurance-analytics\\data\\MachineLearningRating_v3.txt', sep='|')\n"
     ]
    }
   ],
   "source": [
    "df = pd.read_csv(r'C:\\Users\\bless\\OneDrive\\Desktop\\week-3-final\\acis-insurance-analytics\\data\\MachineLearningRating_v3.txt', sep='|')"
   ]
  },
  {
   "cell_type": "code",
   "execution_count": 4,
   "id": "6ac5aeeb",
   "metadata": {},
   "outputs": [],
   "source": [
    "df['HasClaim'] = df['TotalClaims'] > 0\n",
    "df['Margin'] = df['TotalPremium'] - df['TotalClaims']\n",
    "claims_df = df[df['HasClaim']]"
   ]
  },
  {
   "cell_type": "code",
   "execution_count": 5,
   "id": "4d602e2c",
   "metadata": {},
   "outputs": [
    {
     "name": "stdout",
     "output_type": "stream",
     "text": [
      "Hypothesis 1 - Frequency: Chi-squared p-value = 0.0000\n"
     ]
    }
   ],
   "source": [
    "freq_table = pd.crosstab(df['Province'], df['HasClaim'])\n",
    "chi2, p_freq, _, _ = stats.chi2_contingency(freq_table)\n",
    "print(f\"Hypothesis 1 - Frequency: Chi-squared p-value = {p_freq:.4f}\")"
   ]
  },
  {
   "cell_type": "code",
   "execution_count": 6,
   "id": "2f30197b",
   "metadata": {},
   "outputs": [
    {
     "name": "stdout",
     "output_type": "stream",
     "text": [
      "Hypothesis 1 - Severity: ANOVA p-value = 0.0000\n",
      "Reject Hypothesis 1: Risk differences exist across provinces.\n",
      "            Multiple Comparison of Means - Tukey HSD, FWER=0.05             \n",
      "============================================================================\n",
      "    group1        group2      meandiff  p-adj     lower      upper    reject\n",
      "----------------------------------------------------------------------------\n",
      " Eastern Cape    Free State   5137.1278    1.0 -34672.4563 44946.7119  False\n",
      " Eastern Cape       Gauteng  -4884.6549  0.994 -22106.5283 12337.2186  False\n",
      " Eastern Cape KwaZulu-Natal   2480.9542    1.0 -15277.6613 20239.5697  False\n",
      " Eastern Cape       Limpopo -11957.2391   0.77 -34296.7981 10382.3199  False\n",
      " Eastern Cape    Mpumalanga -11148.9799 0.7241 -31084.3398  8786.3801  False\n",
      " Eastern Cape    North West -10165.0662  0.718 -28240.6695   7910.537  False\n",
      " Eastern Cape Northern Cape -15942.2197 0.9761  -61460.733 29576.2936  False\n",
      " Eastern Cape  Western Cape    967.3166    1.0 -17043.8917 18978.5249  False\n",
      "   Free State       Gauteng -10021.7827 0.9949 -46213.3234  26169.758  False\n",
      "   Free State KwaZulu-Natal  -2656.1736    1.0 -39106.1821 33793.8349  False\n",
      "   Free State       Limpopo -17094.3669  0.911 -55982.5475 21793.8137  False\n",
      "   Free State    Mpumalanga -16286.1077 0.9173 -53844.7721 21272.5567  False\n",
      "   Free State    North West  -15302.194 0.9323 -51907.6872 21303.2991  False\n",
      "   Free State Northern Cape -21079.3475 0.9611 -76623.6518 34464.9569  False\n",
      "   Free State  Western Cape  -4169.8112    1.0 -40743.5493 32403.9269  False\n",
      "      Gauteng KwaZulu-Natal   7365.6091 0.0099   1010.0556 13721.1626   True\n",
      "      Gauteng       Limpopo  -7072.5842  0.871 -22041.9038  7896.7354  False\n",
      "      Gauteng    Mpumalanga   -6264.325 0.7104 -17329.7311  4801.0811  False\n",
      "      Gauteng    North West  -5280.4114 0.3555 -12474.3023  1913.4796  False\n",
      "      Gauteng Northern Cape -11057.5648 0.9966 -53448.1261 31332.9965  False\n",
      "      Gauteng  Western Cape   5851.9715 0.1937  -1178.5519 12882.4949  False\n",
      "KwaZulu-Natal       Limpopo -14438.1933  0.095  -30022.032  1145.6455  False\n",
      "KwaZulu-Natal    Mpumalanga -13629.9341 0.0113  -25513.482 -1746.3861   True\n",
      "KwaZulu-Natal    North West -12646.0204 0.0001 -21044.0897 -4247.9512   True\n",
      "KwaZulu-Natal Northern Cape -18423.1739 0.9186 -61034.6182 24188.2704  False\n",
      "KwaZulu-Natal  Western Cape  -1513.6376 0.9997  -9772.1943  6744.9191  False\n",
      "      Limpopo    Mpumalanga    808.2592    1.0 -17216.8949 18833.4134  False\n",
      "      Limpopo    North West   1792.1728    1.0 -14151.9495 17736.2952  False\n",
      "      Limpopo Northern Cape  -3984.9806    1.0 -48699.8848 40729.9236  False\n",
      "      Limpopo  Western Cape  12924.5557 0.2189  -2946.5258 28795.6372  False\n",
      "   Mpumalanga    North West    983.9136    1.0 -11368.3218  13336.149  False\n",
      "   Mpumalanga Northern Cape  -4793.2398    1.0 -48356.8179 38770.3383  False\n",
      "   Mpumalanga  Western Cape  12116.2965 0.0556   -141.5137 24374.1066  False\n",
      "   North West Northern Cape  -5777.1534    1.0 -48521.6758 36967.3689  False\n",
      "   North West  Western Cape  11132.3828 0.0035   2212.5865 20052.1792   True\n",
      "Northern Cape  Western Cape  16909.5363 0.9503 -25807.7949 59626.8675  False\n",
      "----------------------------------------------------------------------------\n"
     ]
    }
   ],
   "source": [
    "province_groups = [claims_df[claims_df['Province'] == p]['TotalClaims'] for p in claims_df['Province'].unique()]\n",
    "f_stat, p_severity = stats.f_oneway(*province_groups)\n",
    "print(f\"Hypothesis 1 - Severity: ANOVA p-value = {p_severity:.4f}\")\n",
    "\n",
    "if p_freq < 0.05 or p_severity < 0.05:\n",
    "    print(\"Reject Hypothesis 1: Risk differences exist across provinces.\")\n",
    "    tukey = pairwise_tukeyhsd(claims_df['TotalClaims'], claims_df['Province'])\n",
    "    print(tukey)\n",
    "else:\n",
    "    print(\"Fail to reject Hypothesis 1: No significant risk differences across provinces.\")"
   ]
  },
  {
   "cell_type": "code",
   "execution_count": 7,
   "id": "764b14d6",
   "metadata": {},
   "outputs": [
    {
     "name": "stdout",
     "output_type": "stream",
     "text": [
      "Hypothesis 2 - Frequency: Chi-squared p-value = 0.0000\n"
     ]
    }
   ],
   "source": [
    "freq_table_zip = pd.crosstab(df['PostalCode'], df['HasClaim'])\n",
    "chi2_zip, p_freq_zip, _, _ = stats.chi2_contingency(freq_table_zip)\n",
    "print(f\"Hypothesis 2 - Frequency: Chi-squared p-value = {p_freq_zip:.4f}\")"
   ]
  },
  {
   "cell_type": "code",
   "execution_count": 8,
   "id": "68fa9f7a",
   "metadata": {},
   "outputs": [
    {
     "name": "stdout",
     "output_type": "stream",
     "text": [
      "Hypothesis 2 - Severity: ANOVA p-value = 0.0335\n",
      "Reject Hypothesis 2: Risk differences exist between zip codes.\n"
     ]
    }
   ],
   "source": [
    "zip_groups = [claims_df[claims_df['PostalCode'] == z]['TotalClaims'] for z in claims_df['PostalCode'].unique()]\n",
    "f_stat_zip, p_severity_zip = stats.f_oneway(*zip_groups)\n",
    "print(f\"Hypothesis 2 - Severity: ANOVA p-value = {p_severity_zip:.4f}\")\n",
    "\n",
    "if p_freq_zip < 0.05 or p_severity_zip < 0.05:\n",
    "    print(\"Reject Hypothesis 2: Risk differences exist between zip codes.\")\n",
    "else:\n",
    "    print(\"Fail to reject Hypothesis 2: No significant risk differences between zip codes.\")"
   ]
  },
  {
   "cell_type": "code",
   "execution_count": 9,
   "id": "39636d5c",
   "metadata": {},
   "outputs": [
    {
     "name": "stdout",
     "output_type": "stream",
     "text": [
      "Hypothesis 3 - Margin: ANOVA p-value = 0.9977\n",
      "Fail to reject Hypothesis 3: No significant margin differences between zip codes.\n"
     ]
    }
   ],
   "source": [
    "margin_groups = [df[df['PostalCode'] == z]['Margin'] for z in df['PostalCode'].unique()]\n",
    "f_stat_margin, p_margin = stats.f_oneway(*margin_groups)\n",
    "print(f\"Hypothesis 3 - Margin: ANOVA p-value = {p_margin:.4f}\")\n",
    "\n",
    "if p_margin < 0.05:\n",
    "    print(\"Reject Hypothesis 3: Margin differences exist between zip codes.\")\n",
    "else:\n",
    "    print(\"Fail to reject Hypothesis 3: No significant margin differences between zip codes.\")"
   ]
  },
  {
   "cell_type": "code",
   "execution_count": 10,
   "id": "1fb8a91c",
   "metadata": {},
   "outputs": [],
   "source": [
    "gender_df = df[df['Gender'].isin(['Male', 'Female'])]"
   ]
  },
  {
   "cell_type": "code",
   "execution_count": 11,
   "id": "0e85857d",
   "metadata": {},
   "outputs": [
    {
     "name": "stdout",
     "output_type": "stream",
     "text": [
      "Hypothesis 4 - Frequency: Chi-squared p-value = 0.9515\n"
     ]
    }
   ],
   "source": [
    "freq_table_gender = pd.crosstab(gender_df['Gender'], gender_df['HasClaim'])\n",
    "chi2_gender, p_freq_gender, _, _ = stats.chi2_contingency(freq_table_gender)\n",
    "print(f\"Hypothesis 4 - Frequency: Chi-squared p-value = {p_freq_gender:.4f}\")"
   ]
  },
  {
   "cell_type": "code",
   "execution_count": 12,
   "id": "888a25ea",
   "metadata": {},
   "outputs": [
    {
     "name": "stdout",
     "output_type": "stream",
     "text": [
      "Hypothesis 4 - Severity: T-test p-value = 0.5680\n",
      "Fail to reject Hypothesis 4: No significant risk differences between women and men.\n"
     ]
    }
   ],
   "source": [
    "male_claims = claims_df[claims_df['Gender'] == 'Male']['TotalClaims']\n",
    "female_claims = claims_df[claims_df['Gender'] == 'Female']['TotalClaims']\n",
    "t_stat, p_severity_gender = stats.ttest_ind(male_claims, female_claims, equal_var=False)\n",
    "print(f\"Hypothesis 4 - Severity: T-test p-value = {p_severity_gender:.4f}\")\n",
    "\n",
    "if p_freq_gender < 0.05 or p_severity_gender < 0.05:\n",
    "    print(\"Reject Hypothesis 4: Risk differences exist between women and men.\")\n",
    "else:\n",
    "    print(\"Fail to reject Hypothesis 4: No significant risk differences between women and men.\")"
   ]
  },
  {
   "cell_type": "code",
   "execution_count": null,
   "id": "f5f5483e",
   "metadata": {},
   "outputs": [],
   "source": []
  }
 ],
 "metadata": {
  "kernelspec": {
   "display_name": "venv",
   "language": "python",
   "name": "python3"
  },
  "language_info": {
   "codemirror_mode": {
    "name": "ipython",
    "version": 3
   },
   "file_extension": ".py",
   "mimetype": "text/x-python",
   "name": "python",
   "nbconvert_exporter": "python",
   "pygments_lexer": "ipython3",
   "version": "3.13.4"
  }
 },
 "nbformat": 4,
 "nbformat_minor": 5
}
